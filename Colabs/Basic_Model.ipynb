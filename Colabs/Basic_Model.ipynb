{
  "nbformat": 4,
  "nbformat_minor": 0,
  "metadata": {
    "colab": {
      "name": "Basic Model",
      "provenance": [],
      "collapsed_sections": [],
      "authorship_tag": "ABX9TyNX1LbKybuNz6iXx2ftvcjQ",
      "include_colab_link": true
    },
    "kernelspec": {
      "name": "python3",
      "display_name": "Python 3"
    }
  },
  "cells": [
    {
      "cell_type": "markdown",
      "metadata": {
        "id": "view-in-github",
        "colab_type": "text"
      },
      "source": [
        "<a href=\"https://colab.research.google.com/github/xoreo/md/blob/master/Colabs/Basic_Model.ipynb\" target=\"_parent\"><img src=\"https://colab.research.google.com/assets/colab-badge.svg\" alt=\"Open In Colab\"/></a>"
      ]
    },
    {
      "cell_type": "code",
      "metadata": {
        "id": "8Tt7lLe-hrMX",
        "colab_type": "code",
        "colab": {}
      },
      "source": [
        "import numpy as np\n",
        "import matplotlib.pyplot as plt\n",
        "import random"
      ],
      "execution_count": 0,
      "outputs": []
    },
    {
      "cell_type": "code",
      "metadata": {
        "id": "-OMTqExxL8Mk",
        "colab_type": "code",
        "colab": {}
      },
      "source": [
        "PARTICLE_MASS = 1\n",
        "EDGE_LEN = 5\n",
        "N_PARTICLES = EDGE_LEN ** 2"
      ],
      "execution_count": 0,
      "outputs": []
    },
    {
      "cell_type": "code",
      "metadata": {
        "id": "bvsJv9-yhSaG",
        "colab_type": "code",
        "colab": {}
      },
      "source": [
        "# Particle represents a singular particle\n",
        "class Particle:\n",
        "  def __init__(self, index):\n",
        "    self.mass = PARTICLE_MASS\n",
        "    self.index = index # Index in the vector of positions\n",
        "    self.vel = random.random() # Temporary for now\n",
        "\n",
        "  def kinetic_energy(self):\n",
        "    return self.mass * (self.vel ** 2) * 0.5\n",
        "\n",
        "# Box2D represents a two-dimensional box of particles\n",
        "class Box2D:\n",
        "  def __init__(self, n_particles, edge_len):\n",
        "    self.n_particles = n_particles # The number of particles. Should be a perfect square (for now)\n",
        "    self.edge_len = edge_len\n",
        "\n",
        "    '''\n",
        "    self.positions:\n",
        "     x  |  y \n",
        "    ---------\n",
        "    ... | ...\n",
        "    ---------\n",
        "    indexed by self.positions[some_particle.index] -> numpy.array([x, y])\n",
        "    '''\n",
        "    self.positions = np.zeros(shape=(self.edge_len ** 2, 2))\n",
        "\n",
        "    '''\n",
        "    self.particles:\n",
        "    indexed by self.particles[index] -> Particle\n",
        "    '''\n",
        "    self.particles = np.empty(self.edge_len ** 2, dtype=object)\n",
        "    self.populate()\n",
        "  \n",
        "  # Populate populates the Box2D with a square number of equally-spaced particles\n",
        "  def populate(self):\n",
        "    ppr = int(np.sqrt(self.n_particles)) # Number of particles per row\n",
        "    space = np.linspace(0, ppr, ppr)\n",
        "\n",
        "    for row in range(0, space.size):   # [0, ppr)\n",
        "      for col in range(0, space.size): # [0, ppr)\n",
        "          index = ppr * col + row\n",
        "\n",
        "          particle_x_pos = space[col]\n",
        "          particle_y_pos = space[row]\n",
        "          self.positions[index][0] = particle_x_pos\n",
        "          self.positions[index][1] = particle_y_pos\n",
        "          \n",
        "          self.particles[index] = Particle(index)\n"
      ],
      "execution_count": 0,
      "outputs": []
    },
    {
      "cell_type": "code",
      "metadata": {
        "id": "Hh6slghhhIgS",
        "colab_type": "code",
        "outputId": "54e2d268-a16d-4147-d5b9-3b22477944eb",
        "colab": {
          "base_uri": "https://localhost:8080/",
          "height": 885
        }
      },
      "source": [
        "box = Box2D(N_PARTICLES, EDGE_LEN)\n",
        "print(box2d.positions)\n",
        "print(box2d.particles)"
      ],
      "execution_count": 0,
      "outputs": [
        {
          "output_type": "stream",
          "text": [
            "[[0.   0.  ]\n",
            " [0.   1.25]\n",
            " [0.   2.5 ]\n",
            " [0.   3.75]\n",
            " [0.   5.  ]\n",
            " [1.25 0.  ]\n",
            " [1.25 1.25]\n",
            " [1.25 2.5 ]\n",
            " [1.25 3.75]\n",
            " [1.25 5.  ]\n",
            " [2.5  0.  ]\n",
            " [2.5  1.25]\n",
            " [2.5  2.5 ]\n",
            " [2.5  3.75]\n",
            " [2.5  5.  ]\n",
            " [3.75 0.  ]\n",
            " [3.75 1.25]\n",
            " [3.75 2.5 ]\n",
            " [3.75 3.75]\n",
            " [3.75 5.  ]\n",
            " [5.   0.  ]\n",
            " [5.   1.25]\n",
            " [5.   2.5 ]\n",
            " [5.   3.75]\n",
            " [5.   5.  ]]\n",
            "[<__main__.Particle object at 0x7ff904dd1278>\n",
            " <__main__.Particle object at 0x7ff904dd1470>\n",
            " <__main__.Particle object at 0x7ff904dd1e10>\n",
            " <__main__.Particle object at 0x7ff904e19588>\n",
            " <__main__.Particle object at 0x7ff904e1f828>\n",
            " <__main__.Particle object at 0x7ff904dd17f0>\n",
            " <__main__.Particle object at 0x7ff904dd12b0>\n",
            " <__main__.Particle object at 0x7ff904dd1b70>\n",
            " <__main__.Particle object at 0x7ff904e1fd68>\n",
            " <__main__.Particle object at 0x7ff904e1f080>\n",
            " <__main__.Particle object at 0x7ff904dd1dd8>\n",
            " <__main__.Particle object at 0x7ff904dd1f98>\n",
            " <__main__.Particle object at 0x7ff904dd1e48>\n",
            " <__main__.Particle object at 0x7ff904e1fb00>\n",
            " <__main__.Particle object at 0x7ff904e1f198>\n",
            " <__main__.Particle object at 0x7ff904dd18d0>\n",
            " <__main__.Particle object at 0x7ff904dd1c88>\n",
            " <__main__.Particle object at 0x7ff904dd15c0>\n",
            " <__main__.Particle object at 0x7ff904e1fc50>\n",
            " <__main__.Particle object at 0x7ff904e1f9b0>\n",
            " <__main__.Particle object at 0x7ff904dd1a90>\n",
            " <__main__.Particle object at 0x7ff904dd1e80>\n",
            " <__main__.Particle object at 0x7ff904e19518>\n",
            " <__main__.Particle object at 0x7ff904e1f0f0>\n",
            " <__main__.Particle object at 0x7ff904e1f438>]\n"
          ],
          "name": "stdout"
        }
      ]
    },
    {
      "cell_type": "code",
      "metadata": {
        "id": "-Mlr3F7EiXsc",
        "colab_type": "code",
        "outputId": "c9c3ac97-8c01-4459-b1c7-b12ac3254111",
        "colab": {
          "base_uri": "https://localhost:8080/",
          "height": 265
        }
      },
      "source": [
        "plt.scatter(\n",
        "    box.positions[:,0], # x\n",
        "    box.positions[:,1], # y\n",
        ")\n",
        "plt.show()"
      ],
      "execution_count": 0,
      "outputs": [
        {
          "output_type": "display_data",
          "data": {
            "image/png": "[encoded data removed]",
            "text/plain": [
              "<Figure size 432x288 with 1 Axes>"
            ]
          },
          "metadata": {
            "tags": [],
            "needs_background": "light"
          }
        }
      ]
    },
    {
      "cell_type": "code",
      "metadata": {
        "id": "rnBvjeLuT8Sj",
        "colab_type": "code",
        "colab": {}
      },
      "source": [
        ""
      ],
      "execution_count": 0,
      "outputs": []
    }
  ]
}