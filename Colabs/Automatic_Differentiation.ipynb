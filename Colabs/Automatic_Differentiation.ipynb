{
  "nbformat": 4,
  "nbformat_minor": 0,
  "metadata": {
    "colab": {
      "name": "Automatic Differentiation",
      "provenance": [],
      "collapsed_sections": [],
      "include_colab_link": true
    },
    "kernelspec": {
      "name": "python3",
      "display_name": "Python 3"
    }
  },
  "cells": [
    {
      "cell_type": "markdown",
      "metadata": {
        "id": "view-in-github",
        "colab_type": "text"
      },
      "source": [
        "<a href=\"https://colab.research.google.com/github/xoreo/md/blob/master/Automatic_Differentiation.ipynb\" target=\"_parent\"><img src=\"https://colab.research.google.com/assets/colab-badge.svg\" alt=\"Open In Colab\"/></a>"
      ]
    },
    {
      "cell_type": "markdown",
      "metadata": {
        "id": "vLviCSwwpw8B",
        "colab_type": "text"
      },
      "source": [
        "# Automatic/Algorithmic Differentiation\n",
        "[Crude Notes](https://github.com/xoreo/md/blob/master/notes.pdf)\n",
        "\n",
        "Wait can I put $\\LaTeX$ in here? Woah! This is so great \n",
        "❤️"
      ]
    },
    {
      "cell_type": "markdown",
      "metadata": {
        "id": "leqP4wNoEpTc",
        "colab_type": "text"
      },
      "source": [
        ""
      ]
    },
    {
      "cell_type": "markdown",
      "metadata": {
        "id": "srh-TaXd0H5o",
        "colab_type": "text"
      },
      "source": [
        "Some setup code"
      ]
    },
    {
      "cell_type": "code",
      "metadata": {
        "id": "FAv8x_wUqJxv",
        "colab_type": "code",
        "colab": {}
      },
      "source": [
        "import numpy as np\n",
        "import matplotlib.pyplot as plt\n",
        "\n",
        "N = 1000\n",
        "RANGE = (10, 20)\n",
        "FUNC = lambda x: np.sin(x)\n",
        "# FUNC = lambda x: x ** 2 + 4*x + 7"
      ],
      "execution_count": 0,
      "outputs": []
    },
    {
      "cell_type": "markdown",
      "metadata": {
        "id": "GvhDzKC20A4x",
        "colab_type": "text"
      },
      "source": [
        "Now we need to calculate the function values to put in our vector."
      ]
    },
    {
      "cell_type": "code",
      "metadata": {
        "id": "ruAs5-ovxw_z",
        "colab_type": "code",
        "colab": {}
      },
      "source": [
        "def calc_func_vector(f, n, r):\n",
        "  dx = (r[1]-r[0])/n\n",
        "  x = np.arange(r[0], r[1], dx)\n",
        "  y = np.array(list(map(f, x)))\n",
        "  return x, y, dx"
      ],
      "execution_count": 0,
      "outputs": []
    },
    {
      "cell_type": "markdown",
      "metadata": {
        "id": "c_cLqpOg0KSN",
        "colab_type": "text"
      },
      "source": [
        "Now that we made the vector, we need to construct the differentiation matrix. It will look like this for "
      ]
    },
    {
      "cell_type": "code",
      "metadata": {
        "id": "lGcp065kx0EM",
        "colab_type": "code",
        "colab": {}
      },
      "source": [
        "def calc_D():\n",
        "  D = np.zeros(shape=(N, N)) # Start off blank\n",
        "  for i in range(len(D) - 1):\n",
        "    D[i][i] = -1\n",
        "    D[i][i+1] = 1\n",
        "  D[N-1][N-2] = -1\n",
        "  D[N-1][N-1] = 1\n",
        "  # for i in range(len(D)):\n",
        "  #   D[i][len(D) - 1] = 1\n",
        "  #   D[i][len(D) - 2] = -1\n",
        "  return D"
      ],
      "execution_count": 0,
      "outputs": []
    },
    {
      "cell_type": "markdown",
      "metadata": {
        "id": "Srs4X1kc573G",
        "colab_type": "text"
      },
      "source": [
        "Put it all together"
      ]
    },
    {
      "cell_type": "code",
      "metadata": {
        "id": "oPXtBmAqx2EF",
        "colab_type": "code",
        "colab": {}
      },
      "source": [
        "x, v, dx = calc_func_vector(FUNC, N, RANGE)\n",
        "D  = calc_D()\n",
        "p  = D.dot(v) / dx\n",
        "p2 = D.dot(p) / dx\n",
        "p3 = D.dot(p2) / dx\n",
        "\n",
        "# print(\"dx: {}\".format(dx))\n",
        "# print(\"D:\\n%s\" % D)\n",
        "# print(\"x: {}\".format(x))\n",
        "# print(\"v: {}\".format(v))\n",
        "# print(\"p: {}\".format(p))"
      ],
      "execution_count": 0,
      "outputs": []
    },
    {
      "cell_type": "markdown",
      "metadata": {
        "id": "TWHN-dMaJcsL",
        "colab_type": "text"
      },
      "source": [
        "Some analysis"
      ]
    },
    {
      "cell_type": "code",
      "metadata": {
        "id": "uFgTWaoKx3aK",
        "colab_type": "code",
        "outputId": "7a050bf4-acd5-45e3-cbb6-068ca356945e",
        "colab": {
          "base_uri": "https://localhost:8080/",
          "height": 326
        }
      },
      "source": [
        "fprime = np.cos(x)\n",
        "\n",
        "fig, (ax1, ax2, ax3, ax4, ax5) = plt.subplots(5)\n",
        "fig.tight_layout()\n",
        "\n",
        "ax1.set_title(\"f(x)\")\n",
        "ax1.plot(x, FUNC(x), 'tab:red')\n",
        "\n",
        "ax2.set_title(\"f'(x)\")\n",
        "ax2.plot(x, fprime, 'tab:blue')\n",
        "\n",
        "ax3.set_title(\"D*f(x) / dx\")\n",
        "ax3.plot(x, p, 'tab:orange')\n",
        "\n",
        "ax4.set_title(\"D*f(x) / dx and f'(x)\")\n",
        "ax4.plot(x, p, 'tab:orange')\n",
        "ax4.plot(x, fprime, 'tab:purple')\n",
        "\n",
        "ax5.set_title(r'$D^2f(x) / dx^2, f^{(2)}(x) = -\\sin(x)$')\n",
        "ax5.plot(x, p2, 'tab:green')\n",
        "ax5.plot(x, -FUNC(x))"
      ],
      "execution_count": 0,
      "outputs": [
        {
          "output_type": "execute_result",
          "data": {
            "text/plain": [
              "[<matplotlib.lines.Line2D at 0x7fccdf21a940>]"
            ]
          },
          "metadata": {
            "tags": []
          },
          "execution_count": 88
        },
        {
          "output_type": "display_data",
          "data": {
            "image/png": "[encoded data removed]",
            "text/plain": [
              "<Figure size 432x288 with 5 Axes>"
            ]
          },
          "metadata": {
            "tags": [],
            "needs_background": "light"
          }
        }
      ]
    },
    {
      "cell_type": "code",
      "metadata": {
        "id": "Bs7yZcpLJq0E",
        "colab_type": "code",
        "outputId": "4b157f49-177f-48ae-a50c-8f1e8a34f05b",
        "colab": {
          "base_uri": "https://localhost:8080/",
          "height": 302
        }
      },
      "source": [
        "fig, (ax6, ax7) = plt.subplots(2)\n",
        "ax6.set_title(r'$D^3f(x) / dx^3, f^{(3)}(x) = -\\cos(x)$')\n",
        "ax6.plot(x[1:-3], p3[1:-3], 'tab:green')\n",
        "# ax6.plot(x, -p)\n",
        "\n",
        "ax7.plot(x, -p, 'tab:green')\n"
      ],
      "execution_count": 0,
      "outputs": [
        {
          "output_type": "execute_result",
          "data": {
            "text/plain": [
              "[<matplotlib.lines.Line2D at 0x7fac9bb391d0>]"
            ]
          },
          "metadata": {
            "tags": []
          },
          "execution_count": 33
        },
        {
          "output_type": "display_data",
          "data": {
            "image/png": "[encoded data removed]",
            "text/plain": [
              "<Figure size 432x288 with 2 Axes>"
            ]
          },
          "metadata": {
            "tags": [],
            "needs_background": "light"
          }
        }
      ]
    },
    {
      "cell_type": "code",
      "metadata": {
        "id": "7F5FZ-weJ4y2",
        "colab_type": "code",
        "colab": {}
      },
      "source": [
        ""
      ],
      "execution_count": 0,
      "outputs": []
    },
    {
      "cell_type": "markdown",
      "metadata": {
        "id": "zUcZ4wrLwkr6",
        "colab_type": "text"
      },
      "source": [
        "Okay, so basically what I think is happening is you have this $D$, and it is, like you said, just a \"mathematical structure\" that you can manipulate like anything else. Squaring a matrix is just multiplying it by itself, so, for example,\n",
        "\n",
        "$$\n",
        "\\begin{pmatrix}\n",
        "-1 &  1 &  0 & 0 \\\\\n",
        " 0 & -1 &  1 & 0 \\\\\n",
        " 0 &  0 & -1 & 1 \\\\\n",
        " 0 &  0 & -1 & 1\n",
        "\\end{pmatrix}\n",
        "\\begin{pmatrix}\n",
        "-1 &  1 &  0 & 0 \\\\\n",
        " 0 & -1 &  1 & 0 \\\\\n",
        " 0 &  0 & -1 & 1 \\\\\n",
        " 0 &  0 & -1 & 1\n",
        "\\end{pmatrix}\n",
        "=\n",
        "\\begin{pmatrix}\n",
        "-1 & -2 &  1 & 0 \\\\\n",
        " 0 &  1 &  -2 & 1 \\\\\n",
        " 0 &  0 & 0 & 0 \\\\\n",
        " 0 &  0 & 0 & 0\n",
        "\\end{pmatrix}\n",
        "$$\n",
        "I think that's right? I did it by hand it took a very long time.\n",
        "\n",
        "So then we\n",
        "\\begin{pmatrix}\n",
        "-1 & -2 &  1 & 0 \\\\\n",
        " 0 &  1 &  -2 & 1 \\\\\n",
        " 0 &  0 & 0 & 0 \\\\\n",
        " 0 &  0 & 0 & 0\n",
        "\\end{pmatrix}\n",
        "\\begin{pmatrix}\n",
        "f_0 \\\\\n",
        " f_1 \\\\\n",
        " f_2 \\\\\n",
        " f_3 \n",
        "\\end{pmatrix}\n",
        "= \n",
        "\\begin{pmatrix}\n",
        "f_0 - 2(f_1) + f_2 \\\\\n",
        " f_1 - 2(f_2) + f_3 \\\\\n",
        " 0 \\\\\n",
        " 0 \n",
        "\\end{pmatrix}\n",
        "\n",
        "This doesn't look right\n",
        "\n"
      ]
    },
    {
      "cell_type": "markdown",
      "metadata": {
        "id": "ey1w5zq4yI4M",
        "colab_type": "text"
      },
      "source": [
        "Exactly... but notice that last line... its a repeat... so that edge will give you stranger stuff because we fixed $D$ by hand by making the last row a backward diff... thus when we square that manual fix translates to a non-mathematical change that yields those discontinuities. "
      ]
    },
    {
      "cell_type": "markdown",
      "metadata": {
        "id": "6HvcI9bny9J1",
        "colab_type": "text"
      },
      "source": [
        "Notice the change I made to the 3rd deriv plot.. when we exclude the last 2 rows... its gucci\n",
        "\n",
        "\n",
        "Ahhh I see what you mean now."
      ]
    },
    {
      "cell_type": "code",
      "metadata": {
        "id": "ShTKOLzNzRh-",
        "colab_type": "code",
        "outputId": "ce540d6a-8092-4ce5-e867-36dd728ef60b",
        "colab": {
          "base_uri": "https://localhost:8080/",
          "height": 136
        }
      },
      "source": [
        "D**2"
      ],
      "execution_count": 91,
      "outputs": [
        {
          "output_type": "execute_result",
          "data": {
            "text/plain": [
              "array([[1., 1., 0., ..., 0., 0., 0.],\n",
              "       [0., 1., 1., ..., 0., 0., 0.],\n",
              "       [0., 0., 1., ..., 0., 0., 0.],\n",
              "       ...,\n",
              "       [0., 0., 0., ..., 1., 1., 0.],\n",
              "       [0., 0., 0., ..., 0., 1., 1.],\n",
              "       [0., 0., 0., ..., 0., 1., 1.]])"
            ]
          },
          "metadata": {
            "tags": []
          },
          "execution_count": 91
        }
      ]
    },
    {
      "cell_type": "code",
      "metadata": {
        "id": "I8gPEcHYzSa8",
        "colab_type": "code",
        "outputId": "2304116e-ee98-4963-b1b2-a01ccd724ff1",
        "colab": {
          "base_uri": "https://localhost:8080/",
          "height": 136
        }
      },
      "source": [
        "D**3"
      ],
      "execution_count": 0,
      "outputs": [
        {
          "output_type": "execute_result",
          "data": {
            "text/plain": [
              "array([[-1.,  1.,  0., ...,  0.,  0.,  0.],\n",
              "       [ 0., -1.,  1., ...,  0.,  0.,  0.],\n",
              "       [ 0.,  0., -1., ...,  0.,  0.,  0.],\n",
              "       ...,\n",
              "       [ 0.,  0.,  0., ..., -1.,  1.,  0.],\n",
              "       [ 0.,  0.,  0., ...,  0., -1.,  1.],\n",
              "       [ 0.,  0.,  0., ...,  0., -1.,  1.]])"
            ]
          },
          "metadata": {
            "tags": []
          },
          "execution_count": 35
        }
      ]
    },
    {
      "cell_type": "code",
      "metadata": {
        "id": "h1zIaIG8zTlT",
        "colab_type": "code",
        "colab": {}
      },
      "source": [
        ""
      ],
      "execution_count": 0,
      "outputs": []
    },
    {
      "cell_type": "markdown",
      "metadata": {
        "id": "RDh01XBc1NpV",
        "colab_type": "text"
      },
      "source": [
        "Question for tomorrow:\n",
        "Okay. I see what's happening with the second and third and n-th derivatives. Its so cool how we can just treat our $D$ just like its a regular $\\mathrm d$ by squaring it and such. However, (aside from it being much prettier), how is this *better* than numerical differentiation where you just keep some small $\\Delta x = 0.0001$ in memory? You are still approximating by the difference between $x_1 - x_0$, which is essentially the same as just some $\\Delta x = 0.0001$. I get that this matrix way can be parallelized, but I don't see how it is more precise. Does $N$ just need to be really big?\n"
      ]
    },
    {
      "cell_type": "code",
      "metadata": {
        "id": "TrrbdelL17kt",
        "colab_type": "code",
        "colab": {}
      },
      "source": [
        ""
      ],
      "execution_count": 0,
      "outputs": []
    }
  ]
}