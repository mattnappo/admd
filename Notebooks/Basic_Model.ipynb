{
  "nbformat": 4,
  "nbformat_minor": 0,
  "metadata": {
    "colab": {
      "name": "Basic Model",
      "provenance": [],
      "collapsed_sections": [],
      "toc_visible": true,
      "authorship_tag": "ABX9TyODxgf4Q/3N7oROnXt1Rzx0",
      "include_colab_link": true
    },
    "kernelspec": {
      "name": "python3",
      "display_name": "Python 3"
    }
  },
  "cells": [
    {
      "cell_type": "markdown",
      "metadata": {
        "id": "view-in-github",
        "colab_type": "text"
      },
      "source": [
        "<a href=\"https://colab.research.google.com/github/xoreo/md/blob/master/Colabs/Basic_Model.ipynb\" target=\"_parent\"><img src=\"https://colab.research.google.com/assets/colab-badge.svg\" alt=\"Open In Colab\"/></a>"
      ]
    },
    {
      "cell_type": "markdown",
      "metadata": {
        "id": "ylhunbAqKX_7",
        "colab_type": "text"
      },
      "source": [
        "# Something you should know about me: I really dislike object oriented programming. Can't wait to write this in C."
      ]
    },
    {
      "cell_type": "code",
      "metadata": {
        "id": "8Tt7lLe-hrMX",
        "colab_type": "code",
        "colab": {}
      },
      "source": [
        "import numpy as np\n",
        "import matplotlib.pyplot as plt\n",
        "import random"
      ],
      "execution_count": 0,
      "outputs": []
    },
    {
      "cell_type": "code",
      "metadata": {
        "id": "h8Fuchllh_U9",
        "colab_type": "code",
        "colab": {}
      },
      "source": [
        "class Point:\n",
        "  def __init__(self, x, y):\n",
        "    self.x, self.y = x, y"
      ],
      "execution_count": 0,
      "outputs": []
    },
    {
      "cell_type": "code",
      "metadata": {
        "id": "I7nAC0VuqpvP",
        "colab_type": "code",
        "colab": {}
      },
      "source": [
        "PARTICLE_MASS = 1\n",
        "EDGE_LEN = 5\n",
        "N_PARTICLES = 25\n",
        "PADDING = 0.5"
      ],
      "execution_count": 0,
      "outputs": []
    },
    {
      "cell_type": "markdown",
      "metadata": {
        "id": "WYa1CJqwNDmy",
        "colab_type": "text"
      },
      "source": [
        "## Some notes on how this is implemented\n",
        "Right now, the n_particles parameter for the Box2D constructor might not always be accurate to the current amount of particles in a Box2D at any given point in time. This is because of the way that the amount of particles are calculated. Right now, there will always be a perfect square number of particles in the box, just to make it easier for the particles to be equally spread out. This doesn't need to always be the case, but it is good for right now."
      ]
    },
    {
      "cell_type": "code",
      "metadata": {
        "id": "bvsJv9-yhSaG",
        "colab_type": "code",
        "colab": {}
      },
      "source": [
        "# Particle represents a singular particle.\n",
        "class Particle:\n",
        "  def __init__(\n",
        "    self,\n",
        "    index,\n",
        "    mass=PARTICLE_MASS,\n",
        "  ): \n",
        "    self.mass = mass\n",
        "    self.index = index # Index in all related vectors\n",
        "    # In order for acceleration to be zero, velocity must be constant.\n",
        "    # self.vel = Point(random.random(), random.random())\n",
        "    self.vel = Point(1, 1)\n",
        "\n",
        "  def kinetic_energy_x(self):\n",
        "    return self.mass * (self.vel.x ** 2) * 0.5\n",
        "\n",
        "  def kinetic_energy_y(self):\n",
        "    return self.mass * (self.vel.y ** 2) * 0.5\n",
        "\n",
        "# Box2D represents a two-dimensional box of particles.\n",
        "class Box2D:\n",
        "  def __init__(\n",
        "      self,\n",
        "      n_particles=N_PARTICLES,\n",
        "      edge_len=EDGE_LEN,\n",
        "      padding=PADDING,\n",
        "  ):\n",
        "    self.edge_len = edge_len\n",
        "    self.ppr = int(np.sqrt(n_particles)) # Number of particles per row\n",
        "    self.n_particles = self.ppr ** 2 # The number of particles.\n",
        "    self.padding = padding\n",
        "\n",
        "    '''\n",
        "    self.positions:\n",
        "     x  |  y \n",
        "    ---------\n",
        "    ... | ...\n",
        "    ---------\n",
        "    indexed by self.positions[some_particle.index] -> numpy.array([x, y])\n",
        "    '''\n",
        "    self.positions = np.zeros(shape=(self.ppr ** 2, 2))\n",
        "\n",
        "    '''\n",
        "    self.particles:\n",
        "    indexed by self.particles[index] -> Particle\n",
        "    '''\n",
        "    self.particles = np.empty(self.ppr ** 2, dtype=object)\n",
        "\n",
        "    self.time = 0 # The current time of the system\n",
        "    \n",
        "    self.populate()\n",
        "  \n",
        "  # populate populates the Box2D with a square number of equally-spaced particles.\n",
        "  def populate(self):\n",
        "    space = np.linspace(self.padding, self.ppr - self.padding, self.ppr)\n",
        "\n",
        "    for row in range(0, space.size):   # [0, ppr)\n",
        "      for col in range(0, space.size): # [0, ppr)\n",
        "          index = self.ppr * col + row # Calc the C-style index for the vectors\n",
        "\n",
        "          particle_x_pos = space[col]\n",
        "          particle_y_pos = space[row]\n",
        "          self.positions[index][0] = particle_x_pos\n",
        "          self.positions[index][1] = particle_y_pos\n",
        "          \n",
        "          self.particles[index] = Particle(index)\n",
        "\n",
        "  # calc_positions calculates the positions of the particles in the box.\n",
        "  def calc_positions(self, delta_t):\n",
        "    # I will vectorize this later, but I want to get it working first\n",
        "    for particle in self.particles:\n",
        "      # Made these just for readability\n",
        "      x_pos = self.positions[particle.index][0]\n",
        "      y_pos = self.positions[particle.index][1]\n",
        "      \n",
        "      # Collision detection\n",
        "      if x_pos + particle.vel.x >= self.edge_len or x_pos + particle.vel.x <= 0:\n",
        "        particle.vel.x *= -1\n",
        "      if y_pos + particle.vel.y >= self.edge_len or y_pos + particle.vel.y <= 0:\n",
        "        particle.vel.y *= -1\n",
        "\n",
        "      self.positions[particle.index][0] += particle.vel.x * delta_t # x\n",
        "      self.positions[particle.index][1] += particle.vel.y * delta_t # y\n",
        "    \n",
        "  # step changes time, updating the positions of the particles in the box.\n",
        "  def step(self, n_steps=1):\n",
        "    self.time += n_steps\n",
        "    for i in range(n_steps):\n",
        "      self.calc_positions(n_steps)\n",
        "\n",
        "  # show shows a graph of the current positions of the particles in the box.\n",
        "  def show(self):\n",
        "    ax = plt.gca()\n",
        "    ax.scatter(\n",
        "      self.positions[:,0], # x\n",
        "      self.positions[:,1], # y\n",
        "    )\n",
        "    ax.set_xlim([0, self.edge_len])\n",
        "    ax.set_ylim([0, self.edge_len])\n",
        "    plt.show()"
      ],
      "execution_count": 0,
      "outputs": []
    },
    {
      "cell_type": "code",
      "metadata": {
        "id": "-Mlr3F7EiXsc",
        "colab_type": "code",
        "outputId": "4d97205e-bd55-47a4-d0ec-e86469cdb84e",
        "colab": {
          "base_uri": "https://localhost:8080/",
          "height": 1000
        }
      },
      "source": [
        "box = Box2D() # Make the box\n",
        "\n",
        "box.show() # At t = 0\n",
        "\n",
        "for i in range(10):\n",
        "  box.step()\n",
        "  box.show()\n",
        "\n",
        "box.step()\n",
        "box.show() # At t = 2\n",
        "\n",
        "box.step(3)\n",
        "box.show() # At t = 5\n",
        "\n",
        "# box.step(10000)\n",
        "# box.show()\n",
        "\n",
        "print(f'time: {box.time}')"
      ],
      "execution_count": 93,
      "outputs": [
        {
          "output_type": "display_data",
          "data": {
            "image/png": "[encoded data removed]",
            "text/plain": [
              "<Figure size 432x288 with 1 Axes>"
            ]
          },
          "metadata": {
            "tags": [],
            "needs_background": "light"
          }
        },
        {
          "output_type": "display_data",
          "data": {
            "image/png": "[encoded data removed]",
            "text/plain": [
              "<Figure size 432x288 with 1 Axes>"
            ]
          },
          "metadata": {
            "tags": [],
            "needs_background": "light"
          }
        },
        {
          "output_type": "display_data",
          "data": {
            "image/png": "[encoded data removed]",
            "text/plain": [
              "<Figure size 432x288 with 1 Axes>"
            ]
          },
          "metadata": {
            "tags": [],
            "needs_background": "light"
          }
        },
        {
          "output_type": "display_data",
          "data": {
            "image/png": "[encoded data removed]",
            "text/plain": [
              "<Figure size 432x288 with 1 Axes>"
            ]
          },
          "metadata": {
            "tags": [],
            "needs_background": "light"
          }
        },
        {
          "output_type": "display_data",
          "data": {
            "image/png": "[encoded data removed]",
            "text/plain": [
              "<Figure size 432x288 with 1 Axes>"
            ]
          },
          "metadata": {
            "tags": [],
            "needs_background": "light"
          }
        },
        {
          "output_type": "display_data",
          "data": {
            "image/png": "[encoded data removed]",
            "text/plain": [
              "<Figure size 432x288 with 1 Axes>"
            ]
          },
          "metadata": {
            "tags": [],
            "needs_background": "light"
          }
        },
        {
          "output_type": "display_data",
          "data": {
            "image/png": "[encoded data removed]",
            "text/plain": [
              "<Figure size 432x288 with 1 Axes>"
            ]
          },
          "metadata": {
            "tags": [],
            "needs_background": "light"
          }
        },
        {
          "output_type": "display_data",
          "data": {
            "image/png": "[encoded data removed]",
            "text/plain": [
              "<Figure size 432x288 with 1 Axes>"
            ]
          },
          "metadata": {
            "tags": [],
            "needs_background": "light"
          }
        },
        {
          "output_type": "display_data",
          "data": {
            "image/png": "[encoded data removed]",
            "text/plain": [
              "<Figure size 432x288 with 1 Axes>"
            ]
          },
          "metadata": {
            "tags": [],
            "needs_background": "light"
          }
        },
        {
          "output_type": "display_data",
          "data": {
            "image/png": "[encoded data removed]",
            "text/plain": [
              "<Figure size 432x288 with 1 Axes>"
            ]
          },
          "metadata": {
            "tags": [],
            "needs_background": "light"
          }
        },
        {
          "output_type": "display_data",
          "data": {
            "image/png": "[encoded data removed]",
            "text/plain": [
              "<Figure size 432x288 with 1 Axes>"
            ]
          },
          "metadata": {
            "tags": [],
            "needs_background": "light"
          }
        },
        {
          "output_type": "display_data",
          "data": {
            "image/png": "[encoded data removed]",
            "text/plain": [
              "<Figure size 432x288 with 1 Axes>"
            ]
          },
          "metadata": {
            "tags": [],
            "needs_background": "light"
          }
        },
        {
          "output_type": "display_data",
          "data": {
            "image/png": "[encoded data removed]",
            "text/plain": [
              "<Figure size 432x288 with 1 Axes>"
            ]
          },
          "metadata": {
            "tags": [],
            "needs_background": "light"
          }
        },
        {
          "output_type": "stream",
          "text": [
            "time: 14\n"
          ],
          "name": "stdout"
        }
      ]
    },
    {
      "cell_type": "code",
      "metadata": {
        "id": "czDO981ZYroa",
        "colab_type": "code",
        "colab": {}
      },
      "source": [
        ""
      ],
      "execution_count": 0,
      "outputs": []
    }
  ]
}