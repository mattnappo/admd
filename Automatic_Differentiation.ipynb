{
  "nbformat": 4,
  "nbformat_minor": 0,
  "metadata": {
    "colab": {
      "name": "Automatic Differentiation",
      "provenance": [],
      "collapsed_sections": [],
      "authorship_tag": "ABX9TyMshRZtRpKDYUa0iO7FF4UJ",
      "include_colab_link": true
    },
    "kernelspec": {
      "name": "python3",
      "display_name": "Python 3"
    }
  },
  "cells": [
    {
      "cell_type": "markdown",
      "metadata": {
        "id": "view-in-github",
        "colab_type": "text"
      },
      "source": [
        "<a href=\"https://colab.research.google.com/github/xoreo/md/blob/master/Automatic_Differentiation.ipynb\" target=\"_parent\"><img src=\"https://colab.research.google.com/assets/colab-badge.svg\" alt=\"Open In Colab\"/></a>"
      ]
    },
    {
      "cell_type": "markdown",
      "metadata": {
        "id": "vLviCSwwpw8B",
        "colab_type": "text"
      },
      "source": [
        "# Automatic/Algorithmic Differentiation\n",
        "[Crude Notes](https://github.com/xoreo/md/blob/master/notes.pdf)"
      ]
    },
    {
      "cell_type": "markdown",
      "metadata": {
        "id": "srh-TaXd0H5o",
        "colab_type": "text"
      },
      "source": [
        "Some setup code"
      ]
    },
    {
      "cell_type": "code",
      "metadata": {
        "id": "FAv8x_wUqJxv",
        "colab_type": "code",
        "colab": {
          "base_uri": "https://localhost:8080/",
          "height": 34
        },
        "outputId": "6eb41740-0655-44c1-8cc8-d18eeb1e3bc5"
      },
      "source": [
        "import numpy as np\n",
        "\n",
        "N = 5\n",
        "RANGE = (10, 20)\n",
        "FUNC = lambda x: np.sin(x)"
      ],
      "execution_count": 38,
      "outputs": [
        {
          "output_type": "execute_result",
          "data": {
            "text/plain": [
              "array([-0.54402111, -0.53657292,  0.99060736, -0.28790332, -0.75098725])"
            ]
          },
          "metadata": {
            "tags": []
          },
          "execution_count": 38
        }
      ]
    },
    {
      "cell_type": "markdown",
      "metadata": {
        "id": "GvhDzKC20A4x",
        "colab_type": "text"
      },
      "source": [
        "Now we need to calculate the function values to put in our vector."
      ]
    },
    {
      "cell_type": "code",
      "metadata": {
        "id": "ruAs5-ovxw_z",
        "colab_type": "code",
        "colab": {
          "base_uri": "https://localhost:8080/",
          "height": 34
        },
        "outputId": "3cc2a733-4674-4466-f118-3f88f34a8bea"
      },
      "source": [
        "def calc_func_vector(f, n, r):\n",
        "  split_range = np.arange(r[0], r[1], (r[1]-r[0])/n)\n",
        "  return np.array(list(map(f, split_range)))"
      ],
      "execution_count": 39,
      "outputs": [
        {
          "output_type": "execute_result",
          "data": {
            "text/plain": [
              "array([-0.54402111, -0.53657292,  0.99060736, -0.28790332, -0.75098725])"
            ]
          },
          "metadata": {
            "tags": []
          },
          "execution_count": 39
        }
      ]
    },
    {
      "cell_type": "markdown",
      "metadata": {
        "id": "c_cLqpOg0KSN",
        "colab_type": "text"
      },
      "source": [
        "Now that we made the vector, we need to construct the differentiation matrix."
      ]
    },
    {
      "cell_type": "code",
      "metadata": {
        "id": "lGcp065kx0EM",
        "colab_type": "code",
        "colab": {}
      },
      "source": [
        "def calc_D():\n",
        "  D = np.zeros(shape=(N, N)) # Start off blank\n",
        "  for i in range(len(D) - 1):\n",
        "    D[i][i] = -1\n",
        "    D[i][i+1] = 1\n",
        "  D[N-1][0] = 1\n",
        "  D[N-1][N-1] = -1\n",
        "  return D"
      ],
      "execution_count": 0,
      "outputs": []
    },
    {
      "cell_type": "markdown",
      "metadata": {
        "id": "Srs4X1kc573G",
        "colab_type": "text"
      },
      "source": [
        "Put it all together"
      ]
    },
    {
      "cell_type": "code",
      "metadata": {
        "id": "oPXtBmAqx2EF",
        "colab_type": "code",
        "colab": {
          "base_uri": "https://localhost:8080/",
          "height": 34
        },
        "outputId": "52539fac-e6aa-4bfd-9f66-199f0f256019"
      },
      "source": [
        "v = calc_func_vector(FUNC, N, RANGE)\n",
        "D = calc_D()\n",
        "p = D.dot(v)\n",
        "print(p)\n"
      ],
      "execution_count": 85,
      "outputs": [
        {
          "output_type": "stream",
          "text": [
            "[ 0.00744819  1.52718027 -1.27851067 -0.46308393  0.20696614]\n"
          ],
          "name": "stdout"
        }
      ]
    },
    {
      "cell_type": "code",
      "metadata": {
        "id": "uFgTWaoKx3aK",
        "colab_type": "code",
        "colab": {}
      },
      "source": [
        ""
      ],
      "execution_count": 0,
      "outputs": []
    }
  ]
}